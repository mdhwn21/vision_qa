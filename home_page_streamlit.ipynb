{
 "cells": [
  {
   "cell_type": "code",
   "execution_count": 1,
   "id": "905413ed-32c9-4d02-b47f-b9fa79b3ec9c",
   "metadata": {},
   "outputs": [
    {
     "name": "stdout",
     "output_type": "stream",
     "text": [
      "Writing home.py\n"
     ]
    }
   ],
   "source": [
    "%%writefile home.py\n",
    "import streamlit as st\n",
    "\n",
    "st.set_page_config(\n",
    "    page_title=\"Vision-QA\",\n",
    "    page_icon=\"🏓\",\n",
    "    layout=\"wide\"\n",
    ")\n",
    "\n",
    "st.title(\"🏓 Vision-QA Dashboard\")\n",
    "st.markdown(\"\"\"\n",
    "Use the sidebar (or navigation menu) to switch between:\n",
    "\n",
    "- **Running The Model** — step through video frames  \n",
    "- **Frame Analyzer** — find court lines & corners  \n",
    "\"\"\")"
   ]
  },
  {
   "cell_type": "code",
   "execution_count": null,
   "id": "79f7c106-646c-43af-a651-b08a4ddb9e11",
   "metadata": {},
   "outputs": [],
   "source": []
  }
 ],
 "metadata": {
  "kernelspec": {
   "display_name": "Python 3 (ipykernel)",
   "language": "python",
   "name": "python3"
  },
  "language_info": {
   "codemirror_mode": {
    "name": "ipython",
    "version": 3
   },
   "file_extension": ".py",
   "mimetype": "text/x-python",
   "name": "python",
   "nbconvert_exporter": "python",
   "pygments_lexer": "ipython3",
   "version": "3.12.7"
  }
 },
 "nbformat": 4,
 "nbformat_minor": 5
}
