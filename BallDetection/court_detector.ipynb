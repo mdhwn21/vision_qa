{
 "cells": [
  {
   "cell_type": "code",
   "execution_count": 3,
   "id": "6b47b510-e0aa-48df-94ea-7d5603093c83",
   "metadata": {},
   "outputs": [
    {
     "name": "stdout",
     "output_type": "stream",
     "text": [
      "Overwriting court_detector.py\n"
     ]
    }
   ],
   "source": [
    "%%writefile court_detector.py\n",
    "import numpy as np \n",
    "import cv2\n",
    "class CourtDetector:\n",
    "    def __init__(self):\n",
    "        self.court = None\n",
    "\n",
    "    def set_court(self, court: np.ndarray):\n",
    "        \"\"\"\n",
    "        Manually set the court coordinates.\n",
    "        :param court: an (N×2) array of [x,y] points\n",
    "        \"\"\"\n",
    "        self.court = court\n",
    "\n",
    "    def detect_court(self, img: np.ndarray) -> np.ndarray:\n",
    "        \"\"\"\n",
    "        Stub for automatic court detection logic.\n",
    "        :param img: the image to run detection on\n",
    "        :return: an (N×2) array of [x,y] points\n",
    "        \"\"\"\n",
    "        raise NotImplementedError(\"court detection logic not implemented\")\n",
    "\n",
    "    def get_court(self, img: np.ndarray, recompute: bool = True) -> np.ndarray:\n",
    "        \"\"\"\n",
    "        Return the cached court if available (and recompute=False), \n",
    "        otherwise run detect_court(img), cache it, and return it.\n",
    "        \"\"\"\n",
    "        if recompute or self.court is None:\n",
    "            self.court = self.detect_court(img)\n",
    "        return self.court\n"
   ]
  },
  {
   "cell_type": "code",
   "execution_count": null,
   "id": "6b9df441-c312-4ff4-9f7b-6e8507ef0eb9",
   "metadata": {},
   "outputs": [],
   "source": []
  }
 ],
 "metadata": {
  "kernelspec": {
   "display_name": "Python 3 (ipykernel)",
   "language": "python",
   "name": "python3"
  },
  "language_info": {
   "codemirror_mode": {
    "name": "ipython",
    "version": 3
   },
   "file_extension": ".py",
   "mimetype": "text/x-python",
   "name": "python",
   "nbconvert_exporter": "python",
   "pygments_lexer": "ipython3",
   "version": "3.12.7"
  }
 },
 "nbformat": 4,
 "nbformat_minor": 5
}
