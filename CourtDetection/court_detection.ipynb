{
 "cells": [
  {
   "cell_type": "code",
   "execution_count": 9,
   "id": "13d8decb-03c6-4770-8007-f857413829b9",
   "metadata": {},
   "outputs": [
    {
     "name": "stdout",
     "output_type": "stream",
     "text": [
      "Overwriting court_detection.py\n"
     ]
    }
   ],
   "source": [
    "%%writefile court_detection.py\n",
    "import json\n",
    "import streamlit as st\n",
    "\n",
    "st.set_page_config(page_title=\"Court Calibrator (via PolygonZone)\", layout=\"wide\")\n",
    "st.title(\"🎾 Court Coordinate Calibrator\")\n",
    "\n",
    "st.markdown(\"\"\"\n",
    "1. **Click the link below** to open [PolygonZone](https://polygonzone.roboflow.com) in a new tab.  \n",
    "2. Drag&drop your court image there, draw your polygon, then hit **Copy JSON** (or **Copy Python**) in their toolbar.  \n",
    "3. Come back here and paste the JSON (or NumPy) string into the box below.\n",
    "\"\"\")\n",
    "\n",
    "# External-tool link\n",
    "st.markdown(\"[👉 Open PolygonZone annotator](https://polygonzone.roboflow.com){:target=\\\"_blank\\\"}\")\n",
    "\n",
    "# Paste back in\n",
    "coords_txt = st.text_area(\n",
    "    \"Paste the PolygonZone JSON output here\",\n",
    "    placeholder='e.g. [[215,566],[509,64],[798,67],[1171,564]]'\n",
    ")\n",
    "if coords_txt:\n",
    "    try:\n",
    "        coords = json.loads(coords_txt)\n",
    "        st.success(f\"Loaded {len(coords)} points.\")\n",
    "        st.write(coords)  # or more preview logic…\n",
    "    except Exception:\n",
    "        st.error(\"Could not parse that input—make sure it’s valid JSON from PolygonZone.\")\n"
   ]
  },
  {
   "cell_type": "code",
   "execution_count": null,
   "id": "1e929029-1675-4fb7-992c-396ef961804d",
   "metadata": {},
   "outputs": [],
   "source": []
  }
 ],
 "metadata": {
  "kernelspec": {
   "display_name": "Python 3 (ipykernel)",
   "language": "python",
   "name": "python3"
  },
  "language_info": {
   "codemirror_mode": {
    "name": "ipython",
    "version": 3
   },
   "file_extension": ".py",
   "mimetype": "text/x-python",
   "name": "python",
   "nbconvert_exporter": "python",
   "pygments_lexer": "ipython3",
   "version": "3.12.7"
  }
 },
 "nbformat": 4,
 "nbformat_minor": 5
}
