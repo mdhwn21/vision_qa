{
 "cells": [
  {
   "cell_type": "code",
   "execution_count": 16,
   "id": "74df5ea9-8bbb-4e26-a0db-f9766cb5d3c5",
   "metadata": {},
   "outputs": [
    {
     "name": "stdout",
     "output_type": "stream",
     "text": [
      "Overwriting frame_util.py\n"
     ]
    }
   ],
   "source": [
    "%%writefile frame_util.py\n",
    "import streamlit as st\n",
    "import cv2, os, tempfile\n",
    "\n",
    "st.set_page_config(page_title='Frame Analyzer')\n",
    "st.title(\"📹 Frame Analyzer\")\n",
    "\n",
    "uploader = st.file_uploader('Upload video', type=['mp4','avi','mov'])\n",
    "if not uploader:\n",
    "    st.write('Need to upload file to continue')\n",
    "else:\n",
    "    # ─── one-time init ──────────────────────────────────────────────\n",
    "    if \"cap\" not in st.session_state or st.session_state.uploaded_name != uploader.name:\n",
    "        # write upload to temp\n",
    "        ext = os.path.splitext(uploader.name)[1]\n",
    "        tmp = tempfile.NamedTemporaryFile(delete=False, suffix=ext)\n",
    "        tmp.write(uploader.read()); tmp.flush(); tmp.close()\n",
    "        st.session_state.uploaded_name = uploader.name\n",
    "        st.session_state.cap = cv2.VideoCapture(tmp.name)\n",
    "        # store frame_count too\n",
    "        st.session_state.frame_count = int(st.session_state.cap.get(cv2.CAP_PROP_FRAME_COUNT))\n",
    "        st.session_state.frame_idx   = 0\n",
    "\n",
    "    cap         = st.session_state.cap\n",
    "    frame_count = st.session_state.frame_count\n",
    "\n",
    "    # ─── always show these on every run ────────────────────────────\n",
    "    st.write(f\"Total frames: {frame_count}\")\n",
    "\n",
    "    # frame picker bound to session_state\n",
    "    st.number_input(\n",
    "        \"Frame#\",\n",
    "        min_value=0,\n",
    "        max_value=frame_count-1,\n",
    "        value=st.session_state.frame_idx,\n",
    "        step=1,\n",
    "        format=\"%d\",\n",
    "        key=\"frame_idx\",\n",
    "    )\n",
    "    frame_idx = st.session_state.frame_idx\n",
    "\n",
    "    # seek & display\n",
    "    cap.set(cv2.CAP_PROP_POS_FRAMES, frame_idx)\n",
    "    ret, frame = cap.read()\n",
    "    if not ret:\n",
    "        st.error(f\"Couldn’t read frame {frame_idx}\")\n",
    "    else:\n",
    "        frame = cv2.cvtColor(frame, cv2.COLOR_BGR2RGB)\n",
    "        st.image(frame, use_column_width=True)\n",
    "\n",
    "\n",
    "\n"
   ]
  },
  {
   "cell_type": "code",
   "execution_count": null,
   "id": "0f415d5c-40a1-4dac-ba88-8517b352566b",
   "metadata": {},
   "outputs": [],
   "source": []
  },
  {
   "cell_type": "code",
   "execution_count": null,
   "id": "2d1d540e-a028-4887-b5db-fddefcae1bfb",
   "metadata": {},
   "outputs": [],
   "source": []
  }
 ],
 "metadata": {
  "kernelspec": {
   "display_name": "Python 3 (ipykernel)",
   "language": "python",
   "name": "python3"
  },
  "language_info": {
   "codemirror_mode": {
    "name": "ipython",
    "version": 3
   },
   "file_extension": ".py",
   "mimetype": "text/x-python",
   "name": "python",
   "nbconvert_exporter": "python",
   "pygments_lexer": "ipython3",
   "version": "3.12.7"
  }
 },
 "nbformat": 4,
 "nbformat_minor": 5
}
